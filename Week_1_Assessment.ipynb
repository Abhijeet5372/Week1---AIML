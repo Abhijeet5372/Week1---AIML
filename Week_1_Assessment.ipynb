{
  "nbformat": 4,
  "nbformat_minor": 0,
  "metadata": {
    "colab": {
      "provenance": []
    },
    "kernelspec": {
      "name": "python3",
      "display_name": "Python 3"
    },
    "language_info": {
      "name": "python"
    }
  },
  "cells": [
    {
      "cell_type": "code",
      "source": [
        "from google.colab import drive\n",
        "drive.mount('/content/drive')"
      ],
      "metadata": {
        "colab": {
          "base_uri": "https://localhost:8080/"
        },
        "id": "z-1A2-ayjrhU",
        "outputId": "e039cefa-b3a9-4f72-f2c5-1ae0bd1dadb9"
      },
      "execution_count": 1,
      "outputs": [
        {
          "output_type": "stream",
          "name": "stdout",
          "text": [
            "Mounted at /content/drive\n"
          ]
        }
      ]
    },
    {
      "cell_type": "code",
      "source": [
        "# Set file paths (Make sure you place your files correctly in your Google Drive)\n",
        "crop_path = '/content/drive/MyDrive/Colab Notebooks/crop_fertilizer_dataset/crop_recommendation.csv'\n",
        "fertilizer_path = '/content/drive/MyDrive/Colab Notebooks/crop_fertilizer_dataset/fertitlizer_recommendation.csv'\n"
      ],
      "metadata": {
        "id": "Tcl_aKEhj4e-"
      },
      "execution_count": 2,
      "outputs": []
    },
    {
      "cell_type": "code",
      "source": [
        "import pandas as pd\n",
        "import numpy as np\n",
        "import seaborn as sns\n",
        "import matplotlib.pyplot as plt\n",
        "from sklearn.preprocessing import LabelEncoder, StandardScaler\n",
        "from sklearn.model_selection import train_test_split\n",
        "from sklearn.ensemble import RandomForestClassifier\n",
        "from sklearn.metrics import classification_report, accuracy_score"
      ],
      "metadata": {
        "id": "800SGsMTj4qy"
      },
      "execution_count": 3,
      "outputs": []
    },
    {
      "cell_type": "code",
      "source": [
        "# Load datasets\n",
        "crop_df = pd.read_csv(crop_path)\n",
        "fert_df = pd.read_csv(fertilizer_path)\n"
      ],
      "metadata": {
        "id": "Oxg_Ig0dj4tK"
      },
      "execution_count": 4,
      "outputs": []
    },
    {
      "cell_type": "code",
      "source": [
        "# Display first 5 rows of each dataset\n",
        "print(\"\\nCrop Recommendation Dataset:\")\n",
        "print(crop_df.head())\n",
        "\n",
        "print(\"\\nFertilizer Recommendation Dataset:\")\n",
        "print(fert_df.head())\n"
      ],
      "metadata": {
        "colab": {
          "base_uri": "https://localhost:8080/"
        },
        "id": "ePbrY9oLj4v-",
        "outputId": "cfe526aa-6c7f-4344-feda-b859568057ca"
      },
      "execution_count": 5,
      "outputs": [
        {
          "output_type": "stream",
          "name": "stdout",
          "text": [
            "\n",
            "Crop Recommendation Dataset:\n",
            "    N   P   K  temperature   humidity        ph    rainfall label\n",
            "0  90  42  43    20.879744  82.002744  6.502985  202.935536  rice\n",
            "1  85  58  41    21.770462  80.319644  7.038096  226.655537  rice\n",
            "2  60  55  44    23.004459  82.320763  7.840207  263.964248  rice\n",
            "3  74  35  40    26.491096  80.158363  6.980401  242.864034  rice\n",
            "4  78  42  42    20.130175  81.604873  7.628473  262.717340  rice\n",
            "\n",
            "Fertilizer Recommendation Dataset:\n",
            "   Temparature  Humidity   Moisture Soil Type  Crop Type  Nitrogen  Potassium  \\\n",
            "0           26         52        38     Sandy      Maize        37          0   \n",
            "1           29         52        45     Loamy  Sugarcane        12          0   \n",
            "2           34         65        62     Black     Cotton         7          9   \n",
            "3           32         62        34       Red    Tobacco        22          0   \n",
            "4           28         54        46    Clayey      Paddy        35          0   \n",
            "\n",
            "   Phosphorous Fertilizer Name  \n",
            "0            0            Urea  \n",
            "1           36             DAP  \n",
            "2           30        14-35-14  \n",
            "3           20           28-28  \n",
            "4            0            Urea  \n"
          ]
        }
      ]
    },
    {
      "cell_type": "code",
      "source": [
        "# Dataset Info\n",
        "print(\"\\nCrop Dataset Info:\")\n",
        "print(crop_df.info())\n",
        "\n",
        "print(\"\\nFertilizer Dataset Info:\")\n",
        "print(fert_df.info())"
      ],
      "metadata": {
        "colab": {
          "base_uri": "https://localhost:8080/"
        },
        "id": "vnVYb_ofmUX-",
        "outputId": "f06ea107-462a-4fc8-89f1-6c9772a7bb3f"
      },
      "execution_count": 6,
      "outputs": [
        {
          "output_type": "stream",
          "name": "stdout",
          "text": [
            "\n",
            "Crop Dataset Info:\n",
            "<class 'pandas.core.frame.DataFrame'>\n",
            "RangeIndex: 2200 entries, 0 to 2199\n",
            "Data columns (total 8 columns):\n",
            " #   Column       Non-Null Count  Dtype  \n",
            "---  ------       --------------  -----  \n",
            " 0   N            2200 non-null   int64  \n",
            " 1   P            2200 non-null   int64  \n",
            " 2   K            2200 non-null   int64  \n",
            " 3   temperature  2200 non-null   float64\n",
            " 4   humidity     2200 non-null   float64\n",
            " 5   ph           2200 non-null   float64\n",
            " 6   rainfall     2200 non-null   float64\n",
            " 7   label        2200 non-null   object \n",
            "dtypes: float64(4), int64(3), object(1)\n",
            "memory usage: 137.6+ KB\n",
            "None\n",
            "\n",
            "Fertilizer Dataset Info:\n",
            "<class 'pandas.core.frame.DataFrame'>\n",
            "RangeIndex: 99 entries, 0 to 98\n",
            "Data columns (total 9 columns):\n",
            " #   Column           Non-Null Count  Dtype \n",
            "---  ------           --------------  ----- \n",
            " 0   Temparature      99 non-null     int64 \n",
            " 1   Humidity         99 non-null     int64 \n",
            " 2   Moisture         99 non-null     int64 \n",
            " 3   Soil Type        99 non-null     object\n",
            " 4   Crop Type        99 non-null     object\n",
            " 5   Nitrogen         99 non-null     int64 \n",
            " 6   Potassium        99 non-null     int64 \n",
            " 7   Phosphorous      99 non-null     int64 \n",
            " 8   Fertilizer Name  99 non-null     object\n",
            "dtypes: int64(6), object(3)\n",
            "memory usage: 7.1+ KB\n",
            "None\n"
          ]
        }
      ]
    },
    {
      "cell_type": "markdown",
      "source": [
        "# Data Cleaning & Preprocessing\n"
      ],
      "metadata": {
        "id": "5MAB_DAzmljj"
      }
    },
    {
      "cell_type": "code",
      "source": [
        "# Check for missing values\n",
        "print(\"\\nMissing values in Crop Dataset:\")\n",
        "print(crop_df.isnull().sum())\n",
        "\n",
        "print(\"\\nMissing values in Fertilizer Dataset:\")\n",
        "print(fert_df.isnull().sum())\n"
      ],
      "metadata": {
        "colab": {
          "base_uri": "https://localhost:8080/"
        },
        "id": "Q5A87owjmUaf",
        "outputId": "06f8ffee-142c-426f-861d-4e179a2a2569"
      },
      "execution_count": 7,
      "outputs": [
        {
          "output_type": "stream",
          "name": "stdout",
          "text": [
            "\n",
            "Missing values in Crop Dataset:\n",
            "N              0\n",
            "P              0\n",
            "K              0\n",
            "temperature    0\n",
            "humidity       0\n",
            "ph             0\n",
            "rainfall       0\n",
            "label          0\n",
            "dtype: int64\n",
            "\n",
            "Missing values in Fertilizer Dataset:\n",
            "Temparature        0\n",
            "Humidity           0\n",
            "Moisture           0\n",
            "Soil Type          0\n",
            "Crop Type          0\n",
            "Nitrogen           0\n",
            "Potassium          0\n",
            "Phosphorous        0\n",
            "Fertilizer Name    0\n",
            "dtype: int64\n"
          ]
        }
      ]
    },
    {
      "cell_type": "code",
      "source": [
        "# Encode categorical columns in fertilizer dataset\n",
        "le = LabelEncoder()\n",
        "if 'Fertilizer Name' in fert_df.columns:\n",
        "    fert_df['Fertilizer Name'] = le.fit_transform(fert_df['Fertilizer Name'])\n",
        "if 'Crop Type' in fert_df.columns:\n",
        "    fert_df['Crop Type'] = le.fit_transform(fert_df['Crop Type'])\n",
        "if 'Soil Type' in fert_df.columns:\n",
        "    fert_df['Soil Type'] = le.fit_transform(fert_df['Soil Type'])"
      ],
      "metadata": {
        "id": "Ljra0pdJmUco"
      },
      "execution_count": 8,
      "outputs": []
    },
    {
      "cell_type": "code",
      "source": [
        "# Standardize crop dataset features\n",
        "scaler = StandardScaler()\n",
        "crop_features = crop_df.drop('label', axis=1)\n",
        "crop_target = crop_df['label']\n",
        "crop_scaled = scaler.fit_transform(crop_features)"
      ],
      "metadata": {
        "id": "ZMVt8DUkmUgD"
      },
      "execution_count": 9,
      "outputs": []
    },
    {
      "cell_type": "code",
      "source": [
        "# Encode crop target\n",
        "crop_target_encoded = le.fit_transform(crop_target)\n",
        "\n",
        "# Split crop dataset\n",
        "X_crop_train, X_crop_test, y_crop_train, y_crop_test = train_test_split(\n",
        "    crop_scaled, crop_target_encoded, test_size=0.2, random_state=42)"
      ],
      "metadata": {
        "id": "zMV35j5Xj4zc"
      },
      "execution_count": 10,
      "outputs": []
    },
    {
      "cell_type": "code",
      "source": [
        "# Train a simple model on crop data\n",
        "crop_model = RandomForestClassifier()\n",
        "crop_model.fit(X_crop_train, y_crop_train)\n",
        "y_crop_pred = crop_model.predict(X_crop_test)\n",
        "\n",
        "print(\"\\nCrop Recommendation Model Report:\")\n",
        "print(classification_report(y_crop_test, y_crop_pred))\n",
        "print(\"Accuracy:\", accuracy_score(y_crop_test, y_crop_pred))"
      ],
      "metadata": {
        "colab": {
          "base_uri": "https://localhost:8080/"
        },
        "id": "9SPES2qTnKGJ",
        "outputId": "29cc3c94-93a9-4330-9ef4-61075932c648"
      },
      "execution_count": 11,
      "outputs": [
        {
          "output_type": "stream",
          "name": "stdout",
          "text": [
            "\n",
            "Crop Recommendation Model Report:\n",
            "              precision    recall  f1-score   support\n",
            "\n",
            "           0       1.00      1.00      1.00        23\n",
            "           1       1.00      1.00      1.00        21\n",
            "           2       1.00      1.00      1.00        20\n",
            "           3       1.00      1.00      1.00        26\n",
            "           4       1.00      1.00      1.00        27\n",
            "           5       1.00      1.00      1.00        17\n",
            "           6       1.00      1.00      1.00        17\n",
            "           7       1.00      1.00      1.00        14\n",
            "           8       0.92      1.00      0.96        23\n",
            "           9       1.00      1.00      1.00        20\n",
            "          10       0.92      1.00      0.96        11\n",
            "          11       1.00      1.00      1.00        21\n",
            "          12       1.00      1.00      1.00        19\n",
            "          13       1.00      0.96      0.98        24\n",
            "          14       1.00      1.00      1.00        19\n",
            "          15       1.00      1.00      1.00        17\n",
            "          16       1.00      1.00      1.00        14\n",
            "          17       1.00      1.00      1.00        23\n",
            "          18       1.00      1.00      1.00        23\n",
            "          19       1.00      1.00      1.00        23\n",
            "          20       1.00      0.89      0.94        19\n",
            "          21       1.00      1.00      1.00        19\n",
            "\n",
            "    accuracy                           0.99       440\n",
            "   macro avg       0.99      0.99      0.99       440\n",
            "weighted avg       0.99      0.99      0.99       440\n",
            "\n",
            "Accuracy: 0.9931818181818182\n"
          ]
        }
      ]
    },
    {
      "cell_type": "code",
      "source": [
        "# Fertilizer Dataset Preprocessing\n",
        "fert_features = fert_df.drop('Fertilizer Name', axis=1)\n",
        "fert_target = fert_df['Fertilizer Name']\n",
        "\n",
        "fert_scaled = scaler.fit_transform(fert_features)"
      ],
      "metadata": {
        "id": "EOInWQkEnKJe"
      },
      "execution_count": 12,
      "outputs": []
    },
    {
      "cell_type": "code",
      "source": [
        "# Split fertilizer dataset\n",
        "X_fert_train, X_fert_test, y_fert_train, y_fert_test = train_test_split(\n",
        "    fert_scaled, fert_target, test_size=0.2, random_state=42)"
      ],
      "metadata": {
        "id": "9sGeyon-nKvu"
      },
      "execution_count": 13,
      "outputs": []
    },
    {
      "cell_type": "code",
      "source": [
        "# Train a simple model on fertilizer data\n",
        "fert_model = RandomForestClassifier()\n",
        "fert_model.fit(X_fert_train, y_fert_train)\n",
        "y_fert_pred = fert_model.predict(X_fert_test)"
      ],
      "metadata": {
        "id": "O2BNnhYanlQo"
      },
      "execution_count": 14,
      "outputs": []
    },
    {
      "cell_type": "code",
      "source": [
        "print(\"\\nFertilizer Recommendation Model Report:\")\n",
        "print(classification_report(y_fert_test, y_fert_pred))\n",
        "print(\"Accuracy:\", accuracy_score(y_fert_test, y_fert_pred))"
      ],
      "metadata": {
        "colab": {
          "base_uri": "https://localhost:8080/"
        },
        "id": "69_7xNwinlfm",
        "outputId": "d6bab2bb-8d75-4b25-f76d-de763e9a20c2"
      },
      "execution_count": 15,
      "outputs": [
        {
          "output_type": "stream",
          "name": "stdout",
          "text": [
            "\n",
            "Fertilizer Recommendation Model Report:\n",
            "              precision    recall  f1-score   support\n",
            "\n",
            "           0       1.00      1.00      1.00         2\n",
            "           1       1.00      1.00      1.00         1\n",
            "           3       1.00      1.00      1.00         1\n",
            "           4       1.00      1.00      1.00         5\n",
            "           5       1.00      1.00      1.00         5\n",
            "           6       1.00      1.00      1.00         6\n",
            "\n",
            "    accuracy                           1.00        20\n",
            "   macro avg       1.00      1.00      1.00        20\n",
            "weighted avg       1.00      1.00      1.00        20\n",
            "\n",
            "Accuracy: 1.0\n"
          ]
        }
      ]
    }
  ]
}